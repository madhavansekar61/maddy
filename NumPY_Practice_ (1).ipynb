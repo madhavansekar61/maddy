{
  "cells": [
    {
      "cell_type": "markdown",
      "metadata": {
        "id": "yCIubINsAT_t"
      },
      "source": [
        "## Author : Sanjoy Biswas\n",
        "## Topic : NumPy Tutorial: Data Analysis with NumPY\n",
        "## Email : sanjoy.eee32@gmail.com"
      ]
    },
    {
      "cell_type": "markdown",
      "metadata": {
        "id": "Hq-y3r_3AT_u"
      },
      "source": [
        "# Numpy and Array Basics"
      ]
    },
    {
      "cell_type": "markdown",
      "metadata": {
        "id": "eBK7v_YiAT_v"
      },
      "source": [
        "### The numpy library is one of the core packages in Python's data science software stack. Many other Python data analysis libraries require numpy as a prerequisite, because they use its array data structure as a building block. The Kaggle Python environment has numpy available by default; if you are running Python locally, the Anaconda Python distribution comes with numpy as well.\n",
        "\n",
        "### Numpy implements a data structure called the N-dimensional array or ndarray. ndarrays are similar to lists in that they contain a collection of items that can be accessed via indexes. On the other hand, ndarrays are homogeneous, meaning they can only contain objects of the same type and they can be multi-dimensional, making it easy to store 2-dimensional tables or matrices."
      ]
    },
    {
      "cell_type": "markdown",
      "metadata": {
        "id": "9JG3AFH_AT_v"
      },
      "source": [
        "# Import NumPY Library"
      ]
    },
    {
      "cell_type": "code",
      "execution_count": null,
      "metadata": {
        "id": "nPNnQJqaAT_v"
      },
      "outputs": [],
      "source": [
        "import numpy as np"
      ]
    },
    {
      "cell_type": "markdown",
      "metadata": {
        "id": "GGj9g3FmAT_v"
      },
      "source": [
        "# Creating a NumPy Array"
      ]
    },
    {
      "cell_type": "markdown",
      "metadata": {
        "id": "N54WfYahAT_v"
      },
      "source": [
        "## Basic ndarray"
      ]
    },
    {
      "cell_type": "code",
      "execution_count": null,
      "metadata": {
        "id": "a_4rHeBcAT_w"
      },
      "outputs": [],
      "source": [
        "a = [10,20,30,40]"
      ]
    },
    {
      "cell_type": "code",
      "execution_count": null,
      "metadata": {
        "id": "JVftrm7KAT_w",
        "outputId": "245b33c0-1b33-4885-cdb7-cd73c2f7b046"
      },
      "outputs": [
        {
          "data": {
            "text/plain": [
              "list"
            ]
          },
          "execution_count": 3,
          "metadata": {},
          "output_type": "execute_result"
        }
      ],
      "source": [
        "type(a)"
      ]
    },
    {
      "cell_type": "code",
      "execution_count": null,
      "metadata": {
        "id": "guhk8Az-AT_w"
      },
      "outputs": [],
      "source": [
        "x = np.array(a)"
      ]
    },
    {
      "cell_type": "code",
      "execution_count": null,
      "metadata": {
        "id": "8MFIx_gWAT_w",
        "outputId": "2e379d4a-1b12-45f8-893a-f34fd1590f92"
      },
      "outputs": [
        {
          "name": "stdout",
          "output_type": "stream",
          "text": [
            "[10 20 30 40]\n"
          ]
        }
      ],
      "source": [
        "print(x)"
      ]
    },
    {
      "cell_type": "code",
      "execution_count": null,
      "metadata": {
        "id": "XdqEIu-MAT_w",
        "outputId": "13c761fd-0882-404e-b59d-60063353620b"
      },
      "outputs": [
        {
          "data": {
            "text/plain": [
              "numpy.ndarray"
            ]
          },
          "execution_count": 6,
          "metadata": {},
          "output_type": "execute_result"
        }
      ],
      "source": [
        "type(x)"
      ]
    },
    {
      "cell_type": "code",
      "execution_count": null,
      "metadata": {
        "id": "3T2qn3yfAT_w"
      },
      "outputs": [],
      "source": [
        "a = [1,2,3,4]\n",
        "b = [10,20,30,40]\n",
        "x = np.array([a,b])"
      ]
    },
    {
      "cell_type": "code",
      "execution_count": null,
      "metadata": {
        "id": "NAVgc4-EAT_x",
        "outputId": "9058b8d4-8fc5-4668-e118-3ff806c2357a"
      },
      "outputs": [
        {
          "name": "stdout",
          "output_type": "stream",
          "text": [
            "[[ 1  2  3  4]\n",
            " [10 20 30 40]]\n"
          ]
        }
      ],
      "source": [
        "print(x)"
      ]
    },
    {
      "cell_type": "code",
      "execution_count": null,
      "metadata": {
        "id": "Df089BwFAT_x"
      },
      "outputs": [],
      "source": [
        "a = [1,2,3,4]\n",
        "b = [10,20,30]\n",
        "x = np.array([a,b])"
      ]
    },
    {
      "cell_type": "code",
      "execution_count": null,
      "metadata": {
        "id": "5yuOEPQ8AT_x",
        "outputId": "18fceea9-e76f-40cc-d3f5-31595c9f0e5d"
      },
      "outputs": [
        {
          "name": "stdout",
          "output_type": "stream",
          "text": [
            "[list([1, 2, 3, 4]) list([10, 20, 30])]\n"
          ]
        }
      ],
      "source": [
        "print(x)"
      ]
    },
    {
      "cell_type": "code",
      "execution_count": null,
      "metadata": {
        "id": "CmNv-pOQAT_x",
        "outputId": "0ff0d3a8-b7ec-452e-e03c-13266f7507a7"
      },
      "outputs": [
        {
          "name": "stdout",
          "output_type": "stream",
          "text": [
            "[1. 2. 3. 4.]\n"
          ]
        }
      ],
      "source": [
        "x = np.array([1,2,3,4], dtype = np.float32)\n",
        "print(x)"
      ]
    },
    {
      "cell_type": "code",
      "execution_count": null,
      "metadata": {
        "id": "6TaoIxt_AT_x",
        "outputId": "983a95e6-9614-46d2-d18e-7f55d6506413"
      },
      "outputs": [
        {
          "name": "stdout",
          "output_type": "stream",
          "text": [
            "[[0. 0. 0.]\n",
            " [0. 0. 0.]]\n"
          ]
        }
      ],
      "source": [
        "x = np.zeros((2,3))\n",
        "print(x)"
      ]
    },
    {
      "cell_type": "markdown",
      "metadata": {
        "id": "ZGF88FwmAT_x"
      },
      "source": [
        "## Array of zeros"
      ]
    },
    {
      "cell_type": "code",
      "execution_count": null,
      "metadata": {
        "id": "PsJSa4J6AT_x",
        "outputId": "54380040-4c14-499a-a898-eeafb51aca5b"
      },
      "outputs": [
        {
          "name": "stdout",
          "output_type": "stream",
          "text": [
            "[[0. 0. 0. 0.]\n",
            " [0. 0. 0. 0.]\n",
            " [0. 0. 0. 0.]\n",
            " [0. 0. 0. 0.]]\n"
          ]
        }
      ],
      "source": [
        "x = np.zeros((4,4))\n",
        "print(x)"
      ]
    },
    {
      "cell_type": "markdown",
      "metadata": {
        "id": "xqBNZPOLAT_x"
      },
      "source": [
        "## Array of ones"
      ]
    },
    {
      "cell_type": "code",
      "execution_count": null,
      "metadata": {
        "id": "sk90Q6G_AT_x",
        "outputId": "91979aab-87d9-4b75-c53e-36588e41fa25"
      },
      "outputs": [
        {
          "data": {
            "text/plain": [
              "array([[1., 1., 1.],\n",
              "       [1., 1., 1.],\n",
              "       [1., 1., 1.]])"
            ]
          },
          "execution_count": 14,
          "metadata": {},
          "output_type": "execute_result"
        }
      ],
      "source": [
        "np.ones((3,3))"
      ]
    },
    {
      "cell_type": "code",
      "execution_count": null,
      "metadata": {
        "id": "sT1v0UacAT_y",
        "outputId": "7a334042-1989-4cd3-b3ed-baf2d3074faf"
      },
      "outputs": [
        {
          "data": {
            "text/plain": [
              "array([1, 1, 1, 1, 1])"
            ]
          },
          "execution_count": 15,
          "metadata": {},
          "output_type": "execute_result"
        }
      ],
      "source": [
        "np.ones(5, dtype = np.int32)"
      ]
    },
    {
      "cell_type": "markdown",
      "metadata": {
        "id": "KbVy_iOeAT_y"
      },
      "source": [
        "## Random numbers in ndarrays"
      ]
    },
    {
      "cell_type": "code",
      "execution_count": null,
      "metadata": {
        "id": "sSyGIpAhAT_y"
      },
      "outputs": [],
      "source": [
        "x = np.random.rand(2,5)"
      ]
    },
    {
      "cell_type": "code",
      "execution_count": null,
      "metadata": {
        "id": "8eAlbPNOAT_y",
        "outputId": "74a7dba8-3d9d-4d9d-b84e-890014477d95"
      },
      "outputs": [
        {
          "name": "stdout",
          "output_type": "stream",
          "text": [
            "[[0.38607292 0.65668231 0.27302497 0.55370173 0.20555002]\n",
            " [0.7579577  0.12896021 0.14645863 0.70445747 0.09258144]]\n"
          ]
        }
      ],
      "source": [
        "print(x)"
      ]
    },
    {
      "cell_type": "code",
      "execution_count": null,
      "metadata": {
        "id": "xcpYHvaIAT_y"
      },
      "outputs": [],
      "source": [
        "np.random.rand??"
      ]
    },
    {
      "cell_type": "code",
      "execution_count": null,
      "metadata": {
        "id": "rXMxnk3BAT_y",
        "outputId": "aa88fe52-299d-43e8-83a4-0a041c017693"
      },
      "outputs": [
        {
          "data": {
            "text/plain": [
              "array([[ 9,  8, 13],\n",
              "       [14,  7,  7],\n",
              "       [ 4, 12, 10]])"
            ]
          },
          "execution_count": 19,
          "metadata": {},
          "output_type": "execute_result"
        }
      ],
      "source": [
        "np.random.randint(1,20, size = (3,3))"
      ]
    },
    {
      "cell_type": "code",
      "execution_count": 1,
      "metadata": {
        "colab": {
          "base_uri": "https://localhost:8080/"
        },
        "id": "_da7Qb0FAT_y",
        "outputId": "f8793523-34d5-40ef-d23f-c7ed1e7ed5fa"
      },
      "outputs": [
        {
          "output_type": "stream",
          "name": "stdout",
          "text": [
            "Object `np.random.randint` not found.\n"
          ]
        }
      ],
      "source": [
        "np.random.randint??"
      ]
    },
    {
      "cell_type": "code",
      "execution_count": null,
      "metadata": {
        "id": "uQGNb_QfAT_y",
        "outputId": "9d2c9e44-4dc9-4d36-ec58-00c3cdc4bea4"
      },
      "outputs": [
        {
          "data": {
            "text/plain": [
              "array([[-0.15935158,  0.31854443,  1.59474656,  1.77768865,  0.84622622],\n",
              "       [-0.75920145,  0.20301125,  0.54237881, -0.18939443,  0.4309023 ]])"
            ]
          },
          "execution_count": 21,
          "metadata": {},
          "output_type": "execute_result"
        }
      ],
      "source": [
        "np.random.randn(2,5)"
      ]
    },
    {
      "cell_type": "code",
      "execution_count": null,
      "metadata": {
        "id": "q1EAhu7nAT_y"
      },
      "outputs": [],
      "source": [
        "np.random.randn??"
      ]
    },
    {
      "cell_type": "code",
      "execution_count": null,
      "metadata": {
        "id": "PN2DpvEFAT_y",
        "outputId": "a32ddaf7-48b0-49dd-80b4-621cd6a40835"
      },
      "outputs": [
        {
          "data": {
            "text/plain": [
              "3"
            ]
          },
          "execution_count": 23,
          "metadata": {},
          "output_type": "execute_result"
        }
      ],
      "source": [
        "np.random.choice([2,3,4,7,8,10])"
      ]
    },
    {
      "cell_type": "markdown",
      "metadata": {
        "id": "4qQYFXXzAT_z"
      },
      "source": [
        "## An array of your choice"
      ]
    },
    {
      "cell_type": "code",
      "execution_count": null,
      "metadata": {
        "id": "vfyRTwXXAT_z",
        "outputId": "4ffb17b7-4e10-4cdd-eee5-a16701448144"
      },
      "outputs": [
        {
          "data": {
            "text/plain": [
              "array([[10, 10, 10, 10],\n",
              "       [10, 10, 10, 10],\n",
              "       [10, 10, 10, 10]])"
            ]
          },
          "execution_count": 24,
          "metadata": {},
          "output_type": "execute_result"
        }
      ],
      "source": [
        "np.full((3,4),10)"
      ]
    },
    {
      "cell_type": "code",
      "execution_count": null,
      "metadata": {
        "id": "FcDOYBtBAT_z",
        "outputId": "782c1b9d-2c3b-455d-e597-33cc47803343"
      },
      "outputs": [
        {
          "data": {
            "text/plain": [
              "array([[10., 10., 10.],\n",
              "       [10., 10., 10.],\n",
              "       [10., 10., 10.]])"
            ]
          },
          "execution_count": 25,
          "metadata": {},
          "output_type": "execute_result"
        }
      ],
      "source": [
        "np.ones((3,3))*10"
      ]
    },
    {
      "cell_type": "markdown",
      "metadata": {
        "id": "zzcJkInhAT_z"
      },
      "source": [
        "## Identity matrix"
      ]
    },
    {
      "cell_type": "code",
      "execution_count": null,
      "metadata": {
        "id": "fJv9e43EAT_z",
        "outputId": "7358b9da-d5e3-42e3-b97a-bc68e4df641d"
      },
      "outputs": [
        {
          "name": "stdout",
          "output_type": "stream",
          "text": [
            "[[0. 0. 0. 0.]\n",
            " [1. 0. 0. 0.]\n",
            " [0. 1. 0. 0.]\n",
            " [0. 0. 1. 0.]]\n"
          ]
        }
      ],
      "source": [
        "x = np.eye(4, k = -1)\n",
        "print(x)"
      ]
    },
    {
      "cell_type": "code",
      "execution_count": null,
      "metadata": {
        "id": "GJ72N8bIAT_z"
      },
      "outputs": [],
      "source": [
        "np.eye??"
      ]
    },
    {
      "cell_type": "markdown",
      "metadata": {
        "id": "QTThYnpUAT_z"
      },
      "source": [
        "## Evenly spaced ndarray"
      ]
    },
    {
      "cell_type": "code",
      "execution_count": null,
      "metadata": {
        "id": "TB-NxV8DAT_0",
        "outputId": "385078f8-8292-4aa1-f927-e9718d725e83"
      },
      "outputs": [
        {
          "data": {
            "text/plain": [
              "array([ 5,  6,  7,  8,  9, 10])"
            ]
          },
          "execution_count": 28,
          "metadata": {},
          "output_type": "execute_result"
        }
      ],
      "source": [
        "np.arange(5,11)"
      ]
    },
    {
      "cell_type": "code",
      "execution_count": null,
      "metadata": {
        "id": "Hx07gFRmAT_0",
        "outputId": "43818c4a-c1fd-474b-da89-0ba5eda401e0"
      },
      "outputs": [
        {
          "data": {
            "text/plain": [
              "array([ 0,  2,  4,  6,  8, 10])"
            ]
          },
          "execution_count": 29,
          "metadata": {},
          "output_type": "execute_result"
        }
      ],
      "source": [
        "np.arange(0,11,2)"
      ]
    },
    {
      "cell_type": "code",
      "execution_count": null,
      "metadata": {
        "id": "d7kEeeEPAT_0",
        "outputId": "44508e37-11b9-46d4-8e46-d795aa63ca3b"
      },
      "outputs": [
        {
          "data": {
            "text/plain": [
              "array([0.  , 0.25, 0.5 , 0.75, 1.  ])"
            ]
          },
          "execution_count": 30,
          "metadata": {},
          "output_type": "execute_result"
        }
      ],
      "source": [
        "np.linspace(0,1,5)"
      ]
    },
    {
      "cell_type": "markdown",
      "metadata": {
        "id": "FjxlhrGuAT_0"
      },
      "source": [
        "# $\\frac{end-start}{n-1}$"
      ]
    },
    {
      "cell_type": "markdown",
      "metadata": {
        "id": "gjAOfNaSAT_0"
      },
      "source": [
        "# Shape and Reshaping of NumPy Array"
      ]
    },
    {
      "cell_type": "markdown",
      "metadata": {
        "id": "SbYIDOHTAT_0"
      },
      "source": [
        "## Dimension of nparray"
      ]
    },
    {
      "cell_type": "code",
      "execution_count": null,
      "metadata": {
        "id": "MxOk6ap2AT_0",
        "outputId": "e3acb16b-d2c0-4793-aa44-4197d8fd191a"
      },
      "outputs": [
        {
          "name": "stdout",
          "output_type": "stream",
          "text": [
            "[10 20 30 40 50]\n"
          ]
        }
      ],
      "source": [
        "a = [10,20,30,40,50]\n",
        "x = np.array(a)\n",
        "print(x)"
      ]
    },
    {
      "cell_type": "code",
      "execution_count": null,
      "metadata": {
        "id": "ncaYMWWFAT_1",
        "outputId": "88f38adc-62eb-4e7a-d3cb-ce16c4d8b8a0"
      },
      "outputs": [
        {
          "data": {
            "text/plain": [
              "1"
            ]
          },
          "execution_count": 32,
          "metadata": {},
          "output_type": "execute_result"
        }
      ],
      "source": [
        "x.ndim"
      ]
    },
    {
      "cell_type": "code",
      "execution_count": null,
      "metadata": {
        "id": "X24xxdsGAT_1",
        "outputId": "416c8ec1-c6bc-4cda-8148-f6b9cad533b2"
      },
      "outputs": [
        {
          "name": "stdout",
          "output_type": "stream",
          "text": [
            "[[10 20 30 40 50]\n",
            " [ 1  2  3  4  5]]\n"
          ]
        }
      ],
      "source": [
        "b = [1,2,3,4,5]\n",
        "y = np.array([a,b])\n",
        "print(y)"
      ]
    },
    {
      "cell_type": "code",
      "execution_count": null,
      "metadata": {
        "id": "3tp05TvTAT_1",
        "outputId": "2807fcdb-141c-4d30-fed1-5e8559e03c4b"
      },
      "outputs": [
        {
          "data": {
            "text/plain": [
              "2"
            ]
          },
          "execution_count": 34,
          "metadata": {},
          "output_type": "execute_result"
        }
      ],
      "source": [
        "y.ndim"
      ]
    },
    {
      "cell_type": "markdown",
      "metadata": {
        "id": "zJzqMb2cAT_1"
      },
      "source": [
        "## Shape of NumPy array"
      ]
    },
    {
      "cell_type": "code",
      "execution_count": null,
      "metadata": {
        "id": "vwqIY5C6AT_1",
        "outputId": "1c6eb618-910a-4e92-8e72-1b7e0ac6708e"
      },
      "outputs": [
        {
          "data": {
            "text/plain": [
              "(2, 5)"
            ]
          },
          "execution_count": 35,
          "metadata": {},
          "output_type": "execute_result"
        }
      ],
      "source": [
        "y.shape"
      ]
    },
    {
      "cell_type": "code",
      "execution_count": null,
      "metadata": {
        "id": "_qXEbVRiAT_1",
        "outputId": "4e0b698d-35f6-4726-ac44-0d96d59026fe"
      },
      "outputs": [
        {
          "data": {
            "text/plain": [
              "10"
            ]
          },
          "execution_count": 36,
          "metadata": {},
          "output_type": "execute_result"
        }
      ],
      "source": [
        "y.size"
      ]
    },
    {
      "cell_type": "markdown",
      "metadata": {
        "id": "zYzvymD6AT_1"
      },
      "source": [
        "## Reshaping a NumPy array"
      ]
    },
    {
      "cell_type": "code",
      "execution_count": null,
      "metadata": {
        "id": "qdIiseQ8AT_1",
        "outputId": "2bbe1921-331e-4802-bb4c-0bdf61fab392"
      },
      "outputs": [
        {
          "name": "stdout",
          "output_type": "stream",
          "text": [
            "[ 3  6  9 12]\n"
          ]
        }
      ],
      "source": [
        "a = np.array([3,6,9,12])\n",
        "print(a)"
      ]
    },
    {
      "cell_type": "code",
      "execution_count": null,
      "metadata": {
        "id": "Ur-mys5gAT_1",
        "outputId": "b65f8659-fedd-43c7-fe27-f839e993f5c3"
      },
      "outputs": [
        {
          "data": {
            "text/plain": [
              "array([[ 3,  6],\n",
              "       [ 9, 12]])"
            ]
          },
          "execution_count": 38,
          "metadata": {},
          "output_type": "execute_result"
        }
      ],
      "source": [
        "np.reshape(a, (2,2))"
      ]
    },
    {
      "cell_type": "code",
      "execution_count": null,
      "metadata": {
        "id": "z0nyQp59AT_2",
        "outputId": "87e00764-89ff-424f-b46d-f07849a5f006"
      },
      "outputs": [
        {
          "data": {
            "text/plain": [
              "array([[ 3,  6],\n",
              "       [ 9, 12]])"
            ]
          },
          "execution_count": 39,
          "metadata": {},
          "output_type": "execute_result"
        }
      ],
      "source": [
        "a.reshape(2,2)"
      ]
    },
    {
      "cell_type": "code",
      "execution_count": null,
      "metadata": {
        "id": "MK1or2ZmAT_2",
        "outputId": "bef718d6-cdc6-4b6a-d8bc-1b92327c1e5c"
      },
      "outputs": [
        {
          "data": {
            "text/plain": [
              "array([ 1,  2,  3,  4,  5,  6,  7,  8,  9, 10, 11, 12, 13, 14, 15])"
            ]
          },
          "execution_count": 40,
          "metadata": {},
          "output_type": "execute_result"
        }
      ],
      "source": [
        "x = np.arange(1,16)\n",
        "x"
      ]
    },
    {
      "cell_type": "code",
      "execution_count": null,
      "metadata": {
        "id": "7FbB1uGNAT_2",
        "outputId": "4968453a-d88f-41f1-9040-8e8da2528d92"
      },
      "outputs": [
        {
          "data": {
            "text/plain": [
              "15"
            ]
          },
          "execution_count": 41,
          "metadata": {},
          "output_type": "execute_result"
        }
      ],
      "source": [
        "x.size"
      ]
    },
    {
      "cell_type": "code",
      "execution_count": null,
      "metadata": {
        "id": "2DXvr77EAT_2",
        "outputId": "f86f1226-dff5-4f9b-ace8-c6f658414731"
      },
      "outputs": [
        {
          "data": {
            "text/plain": [
              "array([[ 1,  2,  3],\n",
              "       [ 4,  5,  6],\n",
              "       [ 7,  8,  9],\n",
              "       [10, 11, 12],\n",
              "       [13, 14, 15]])"
            ]
          },
          "execution_count": 42,
          "metadata": {},
          "output_type": "execute_result"
        }
      ],
      "source": [
        "x.reshape(5,3)"
      ]
    },
    {
      "cell_type": "markdown",
      "metadata": {
        "id": "xe0X1QmGAT_2"
      },
      "source": [
        "## Transpose of a NumPy array"
      ]
    },
    {
      "cell_type": "code",
      "execution_count": null,
      "metadata": {
        "id": "8o2vwO5ZAT_2",
        "outputId": "3abb8b97-4727-4762-e70f-afa00e661340"
      },
      "outputs": [
        {
          "name": "stdout",
          "output_type": "stream",
          "text": [
            "[ 1  2  3  4  5  6  7  8  9 10 11 12 13 14 15]\n"
          ]
        }
      ],
      "source": [
        "x = np.arange(1,16)\n",
        "print(x)"
      ]
    },
    {
      "cell_type": "code",
      "execution_count": null,
      "metadata": {
        "id": "Msk9I9q1AT_2",
        "outputId": "126d1b37-c4a6-4fdb-f89b-6ef4e2243fca"
      },
      "outputs": [
        {
          "name": "stdout",
          "output_type": "stream",
          "text": [
            "[[ 1  2  3  4  5]\n",
            " [ 6  7  8  9 10]\n",
            " [11 12 13 14 15]]\n"
          ]
        }
      ],
      "source": [
        "y = x.reshape(3,5)\n",
        "print(y)"
      ]
    },
    {
      "cell_type": "code",
      "execution_count": null,
      "metadata": {
        "id": "v5N4h7tfAT_2",
        "outputId": "524ef7b2-c06e-4cf7-cc7a-b6019b0a1782"
      },
      "outputs": [
        {
          "name": "stdout",
          "output_type": "stream",
          "text": [
            "[[ 1  6 11]\n",
            " [ 2  7 12]\n",
            " [ 3  8 13]\n",
            " [ 4  9 14]\n",
            " [ 5 10 15]]\n"
          ]
        }
      ],
      "source": [
        "z = np.transpose(y)\n",
        "print(z)"
      ]
    },
    {
      "cell_type": "code",
      "execution_count": null,
      "metadata": {
        "id": "WYg_OjLmAT_3",
        "outputId": "2dfb7930-f747-438f-a70d-133c5fd492bf"
      },
      "outputs": [
        {
          "data": {
            "text/plain": [
              "array([[ 1,  6, 11],\n",
              "       [ 2,  7, 12],\n",
              "       [ 3,  8, 13],\n",
              "       [ 4,  9, 14],\n",
              "       [ 5, 10, 15]])"
            ]
          },
          "execution_count": 46,
          "metadata": {},
          "output_type": "execute_result"
        }
      ],
      "source": [
        "y.transpose()"
      ]
    },
    {
      "cell_type": "markdown",
      "metadata": {
        "id": "CDtpwwb8AT_3"
      },
      "source": [
        "# Indexing and Slicing of NumPy Array"
      ]
    },
    {
      "cell_type": "markdown",
      "metadata": {
        "id": "Ng_X-RZoAT_3"
      },
      "source": [
        "## 1D NumPy arrays"
      ]
    },
    {
      "cell_type": "code",
      "execution_count": null,
      "metadata": {
        "id": "qms18K2lAT_3"
      },
      "outputs": [],
      "source": [
        "a = np.arange(1,10)"
      ]
    },
    {
      "cell_type": "code",
      "execution_count": null,
      "metadata": {
        "id": "QR4hvpK3AT_3",
        "outputId": "ae319b17-3885-4323-eb59-d1529a31ab92"
      },
      "outputs": [
        {
          "name": "stdout",
          "output_type": "stream",
          "text": [
            "[1 2 3 4 5 6 7 8 9]\n"
          ]
        }
      ],
      "source": [
        "print(a)"
      ]
    },
    {
      "cell_type": "code",
      "execution_count": null,
      "metadata": {
        "id": "QRaYgelYAT_3",
        "outputId": "b6438970-4435-4dfa-f468-734dde4ece8e"
      },
      "outputs": [
        {
          "data": {
            "text/plain": [
              "array([3, 4, 5, 6])"
            ]
          },
          "execution_count": 49,
          "metadata": {},
          "output_type": "execute_result"
        }
      ],
      "source": [
        "a[2:6]"
      ]
    },
    {
      "cell_type": "markdown",
      "metadata": {
        "id": "PC1w0YoTAT_3"
      },
      "source": [
        "## 2-D NumPy arrays"
      ]
    },
    {
      "cell_type": "code",
      "execution_count": null,
      "metadata": {
        "id": "AOVX4TNqAT_3",
        "outputId": "1a707d21-4c74-42d1-ed88-7782fca79ab1"
      },
      "outputs": [
        {
          "name": "stdout",
          "output_type": "stream",
          "text": [
            "[[1 2 3]\n",
            " [4 5 6]\n",
            " [7 8 9]]\n"
          ]
        }
      ],
      "source": [
        "x = np.arange(1,10).reshape(3,3)\n",
        "print(x)"
      ]
    },
    {
      "cell_type": "code",
      "execution_count": null,
      "metadata": {
        "id": "fo-3T3L_AT_3",
        "outputId": "b2f4b75a-9692-45a3-ade1-fbdd435cc516"
      },
      "outputs": [
        {
          "data": {
            "text/plain": [
              "6"
            ]
          },
          "execution_count": 51,
          "metadata": {},
          "output_type": "execute_result"
        }
      ],
      "source": [
        "x[1,2]"
      ]
    },
    {
      "cell_type": "code",
      "execution_count": null,
      "metadata": {
        "id": "BybdP5NCAT_3",
        "outputId": "4fffe963-f437-46cd-aed7-11f57096fd8a"
      },
      "outputs": [
        {
          "data": {
            "text/plain": [
              "6"
            ]
          },
          "execution_count": 52,
          "metadata": {},
          "output_type": "execute_result"
        }
      ],
      "source": [
        "x[1][2]"
      ]
    },
    {
      "cell_type": "code",
      "execution_count": null,
      "metadata": {
        "id": "xhdwDsXBAT_4",
        "outputId": "e8c49b31-e90d-48a7-b1a8-2947839f1ea1"
      },
      "outputs": [
        {
          "data": {
            "text/plain": [
              "array([[5, 6],\n",
              "       [8, 9]])"
            ]
          },
          "execution_count": 53,
          "metadata": {},
          "output_type": "execute_result"
        }
      ],
      "source": [
        "x[1:3,1:3]"
      ]
    },
    {
      "cell_type": "markdown",
      "metadata": {
        "id": "8wE4GeYaAT_4"
      },
      "source": [
        "# Stacking and Concatenating NumPy Arrays"
      ]
    },
    {
      "cell_type": "markdown",
      "metadata": {
        "id": "Lmh6MzD3AT_4"
      },
      "source": [
        "## Stacking"
      ]
    },
    {
      "cell_type": "code",
      "execution_count": null,
      "metadata": {
        "id": "_Wyefq6TAT_4"
      },
      "outputs": [],
      "source": [
        "a = np.arange(1,6)\n",
        "b = np.arange(6,11)"
      ]
    },
    {
      "cell_type": "code",
      "execution_count": null,
      "metadata": {
        "id": "ijm8b0rcAT_4",
        "outputId": "7f867c58-1ac7-4854-b353-2b2743c33b48"
      },
      "outputs": [
        {
          "name": "stdout",
          "output_type": "stream",
          "text": [
            "[1 2 3 4 5]\n"
          ]
        }
      ],
      "source": [
        "print(a)"
      ]
    },
    {
      "cell_type": "code",
      "execution_count": null,
      "metadata": {
        "id": "xsw9fA8eAT_4",
        "outputId": "ffd7b88b-ad46-4f34-859a-97a65eaca23e"
      },
      "outputs": [
        {
          "name": "stdout",
          "output_type": "stream",
          "text": [
            "[ 6  7  8  9 10]\n"
          ]
        }
      ],
      "source": [
        "print(b)"
      ]
    },
    {
      "cell_type": "code",
      "execution_count": null,
      "metadata": {
        "id": "R1HfxabPAT_4"
      },
      "outputs": [],
      "source": [
        "x = np.vstack((a,b))"
      ]
    },
    {
      "cell_type": "code",
      "execution_count": null,
      "metadata": {
        "id": "sTXaze2mAT_4",
        "outputId": "619dceed-6951-46ea-c933-7b203989fd52"
      },
      "outputs": [
        {
          "name": "stdout",
          "output_type": "stream",
          "text": [
            "[[ 1  2  3  4  5]\n",
            " [ 6  7  8  9 10]]\n"
          ]
        }
      ],
      "source": [
        "print(x)"
      ]
    },
    {
      "cell_type": "code",
      "execution_count": null,
      "metadata": {
        "id": "gWIX32SrAT_4"
      },
      "outputs": [],
      "source": [
        "x = np.hstack((a,b))"
      ]
    },
    {
      "cell_type": "code",
      "execution_count": null,
      "metadata": {
        "id": "j-48lZr5AT_5",
        "outputId": "fa75f14b-f363-4f64-cd58-03125b39d6e5"
      },
      "outputs": [
        {
          "name": "stdout",
          "output_type": "stream",
          "text": [
            "[ 1  2  3  4  5  6  7  8  9 10]\n"
          ]
        }
      ],
      "source": [
        "print(x)"
      ]
    },
    {
      "cell_type": "markdown",
      "metadata": {
        "id": "PpX-MgdzAT_5"
      },
      "source": [
        "## Concatenating"
      ]
    },
    {
      "cell_type": "code",
      "execution_count": null,
      "metadata": {
        "id": "OrXe1xN4AT_5"
      },
      "outputs": [],
      "source": [
        "a = np.arange(1,10).reshape(3,3)"
      ]
    },
    {
      "cell_type": "code",
      "execution_count": null,
      "metadata": {
        "id": "IyPeFbCoAT_5"
      },
      "outputs": [],
      "source": [
        "b = np.arange(10,19).reshape(3,3)"
      ]
    },
    {
      "cell_type": "code",
      "execution_count": null,
      "metadata": {
        "id": "yTWrli10AT_5",
        "outputId": "afa7eb81-0322-4a6a-a7c6-362e3c873ca7"
      },
      "outputs": [
        {
          "name": "stdout",
          "output_type": "stream",
          "text": [
            "[[1 2 3]\n",
            " [4 5 6]\n",
            " [7 8 9]]\n"
          ]
        }
      ],
      "source": [
        "print(a)"
      ]
    },
    {
      "cell_type": "code",
      "execution_count": null,
      "metadata": {
        "id": "dayJwOT5AT_5",
        "outputId": "a5426bba-a766-48e8-aee2-a561b2b3f93e"
      },
      "outputs": [
        {
          "name": "stdout",
          "output_type": "stream",
          "text": [
            "[[10 11 12]\n",
            " [13 14 15]\n",
            " [16 17 18]]\n"
          ]
        }
      ],
      "source": [
        "print(b)"
      ]
    },
    {
      "cell_type": "code",
      "execution_count": null,
      "metadata": {
        "id": "9i3UBvvsAT_5",
        "outputId": "b6b0fc7b-b33e-4ba6-f37a-12fcecdcd42d"
      },
      "outputs": [
        {
          "data": {
            "text/plain": [
              "array([[ 1,  2,  3],\n",
              "       [ 4,  5,  6],\n",
              "       [ 7,  8,  9],\n",
              "       [10, 11, 12],\n",
              "       [13, 14, 15],\n",
              "       [16, 17, 18]])"
            ]
          },
          "execution_count": 65,
          "metadata": {},
          "output_type": "execute_result"
        }
      ],
      "source": [
        "np.concatenate((a,b))"
      ]
    },
    {
      "cell_type": "code",
      "execution_count": null,
      "metadata": {
        "id": "UvcmHG7eAT_5",
        "outputId": "f3af2966-85ca-400b-dde8-eed1feb52277"
      },
      "outputs": [
        {
          "data": {
            "text/plain": [
              "array([[ 1,  2,  3, 10, 11, 12],\n",
              "       [ 4,  5,  6, 13, 14, 15],\n",
              "       [ 7,  8,  9, 16, 17, 18]])"
            ]
          },
          "execution_count": 66,
          "metadata": {},
          "output_type": "execute_result"
        }
      ],
      "source": [
        "np.concatenate((a,b), axis = 1)"
      ]
    },
    {
      "cell_type": "markdown",
      "metadata": {
        "id": "NX1GDEtxAT_6"
      },
      "source": [
        "# Broadcasting in NumPy arrays"
      ]
    },
    {
      "cell_type": "code",
      "execution_count": null,
      "metadata": {
        "id": "6IREpfc-AT_6"
      },
      "outputs": [],
      "source": [
        "a = np.arange(10,21,2)"
      ]
    },
    {
      "cell_type": "code",
      "execution_count": null,
      "metadata": {
        "id": "KUNEf357AT_6"
      },
      "outputs": [],
      "source": [
        "b = np.array([[2],[2]])"
      ]
    },
    {
      "cell_type": "code",
      "execution_count": null,
      "metadata": {
        "id": "X2o8pI_kAT_6",
        "outputId": "21751fc2-05a8-4d5e-d168-9d30f2fb6521"
      },
      "outputs": [
        {
          "name": "stdout",
          "output_type": "stream",
          "text": [
            "[10 12 14 16 18 20]\n"
          ]
        }
      ],
      "source": [
        "print(a)"
      ]
    },
    {
      "cell_type": "code",
      "execution_count": null,
      "metadata": {
        "id": "C8tS22kCAT_6",
        "outputId": "2dfff2e8-ead7-413f-b8b9-f834afb9a68e"
      },
      "outputs": [
        {
          "name": "stdout",
          "output_type": "stream",
          "text": [
            "[[2]\n",
            " [2]]\n"
          ]
        }
      ],
      "source": [
        "print(b)"
      ]
    },
    {
      "cell_type": "code",
      "execution_count": null,
      "metadata": {
        "id": "pnuvJDBCAT_6",
        "outputId": "629e7b3b-0912-461c-ab56-d7f5710f4941"
      },
      "outputs": [
        {
          "name": "stdout",
          "output_type": "stream",
          "text": [
            "[[12 14 16 18 20 22]\n",
            " [12 14 16 18 20 22]]\n"
          ]
        }
      ],
      "source": [
        "z = a+b\n",
        "print(z)"
      ]
    },
    {
      "cell_type": "code",
      "execution_count": null,
      "metadata": {
        "id": "loB3kKssAT_6"
      },
      "outputs": [],
      "source": [
        "a = np.arange(10,21,2)"
      ]
    },
    {
      "cell_type": "code",
      "execution_count": null,
      "metadata": {
        "id": "okYJIxrDAT_6",
        "outputId": "028ea3f5-a7b3-42af-d580-77da2c75f674"
      },
      "outputs": [
        {
          "data": {
            "text/plain": [
              "array([12, 14, 16, 18, 20, 22])"
            ]
          },
          "execution_count": 9,
          "metadata": {},
          "output_type": "execute_result"
        }
      ],
      "source": [
        "a+2"
      ]
    },
    {
      "cell_type": "code",
      "execution_count": null,
      "metadata": {
        "id": "q6ZqZibiAT_6",
        "outputId": "e05cf6d4-5544-48bc-fffe-9f46bc6e769f"
      },
      "outputs": [
        {
          "data": {
            "text/plain": [
              "array([[ 8, 10, 12, 14, 16, 18],\n",
              "       [ 8, 10, 12, 14, 16, 18]])"
            ]
          },
          "execution_count": 10,
          "metadata": {},
          "output_type": "execute_result"
        }
      ],
      "source": [
        "a - b"
      ]
    },
    {
      "cell_type": "code",
      "execution_count": null,
      "metadata": {
        "id": "ASfnGlGzAT_7",
        "outputId": "0d8cc09a-92ea-415d-dcab-5869b8f8ada3"
      },
      "outputs": [
        {
          "data": {
            "text/plain": [
              "array([[20, 24, 28, 32, 36, 40],\n",
              "       [20, 24, 28, 32, 36, 40]])"
            ]
          },
          "execution_count": 11,
          "metadata": {},
          "output_type": "execute_result"
        }
      ],
      "source": [
        "a*b"
      ]
    },
    {
      "cell_type": "code",
      "execution_count": null,
      "metadata": {
        "id": "wJdSBWD8AT_7",
        "outputId": "31caf5db-8920-4a65-ba55-e603d09f7009"
      },
      "outputs": [
        {
          "name": "stdout",
          "output_type": "stream",
          "text": [
            "[[1. 1. 1.]\n",
            " [1. 1. 1.]\n",
            " [1. 1. 1.]]\n"
          ]
        }
      ],
      "source": [
        "a = np.ones((3,3))\n",
        "b = np.array([2])\n",
        "print(a)"
      ]
    },
    {
      "cell_type": "code",
      "execution_count": null,
      "metadata": {
        "id": "jCRM7_VkAT_7",
        "outputId": "81d65dd2-c0a2-4fce-f0ff-03a371884a98"
      },
      "outputs": [
        {
          "name": "stdout",
          "output_type": "stream",
          "text": [
            "[2]\n"
          ]
        }
      ],
      "source": [
        "print(b)"
      ]
    },
    {
      "cell_type": "code",
      "execution_count": null,
      "metadata": {
        "id": "yqhCWanFAT_7",
        "outputId": "3aa73715-78a4-4f18-f340-c7c99940f491"
      },
      "outputs": [
        {
          "data": {
            "text/plain": [
              "array([[3., 3., 3.],\n",
              "       [3., 3., 3.],\n",
              "       [3., 3., 3.]])"
            ]
          },
          "execution_count": 78,
          "metadata": {},
          "output_type": "execute_result"
        }
      ],
      "source": [
        "a+b"
      ]
    },
    {
      "cell_type": "code",
      "execution_count": null,
      "metadata": {
        "id": "VIJiG5yqAT_7",
        "outputId": "617221b7-fab5-46d1-fb95-0910d4d07026"
      },
      "outputs": [
        {
          "data": {
            "text/plain": [
              "array([[-1., -1., -1.],\n",
              "       [-1., -1., -1.],\n",
              "       [-1., -1., -1.]])"
            ]
          },
          "execution_count": 79,
          "metadata": {},
          "output_type": "execute_result"
        }
      ],
      "source": [
        "a-b"
      ]
    },
    {
      "cell_type": "markdown",
      "metadata": {
        "id": "KsrwDqKZAT_7"
      },
      "source": [
        "# Arithmetic Operations on NumPy Array"
      ]
    },
    {
      "cell_type": "code",
      "execution_count": null,
      "metadata": {
        "id": "hWW3UyM7AT_7",
        "outputId": "21b621a3-0463-4a81-eb5c-834d6b773b61"
      },
      "outputs": [
        {
          "name": "stdout",
          "output_type": "stream",
          "text": [
            "[[1. 0. 0. 0.]\n",
            " [0. 1. 0. 0.]\n",
            " [0. 0. 1. 0.]\n",
            " [0. 0. 0. 1.]]\n"
          ]
        }
      ],
      "source": [
        "a = np.eye(4)\n",
        "print(a)"
      ]
    },
    {
      "cell_type": "code",
      "execution_count": null,
      "metadata": {
        "id": "I09dmNfoAT_7",
        "outputId": "697131aa-6495-4b65-a558-e6b7fc3a809c"
      },
      "outputs": [
        {
          "name": "stdout",
          "output_type": "stream",
          "text": [
            "[[6. 5. 5. 5.]\n",
            " [5. 6. 5. 5.]\n",
            " [5. 5. 6. 5.]\n",
            " [5. 5. 5. 6.]]\n"
          ]
        }
      ],
      "source": [
        "print(a+5)"
      ]
    },
    {
      "cell_type": "code",
      "execution_count": null,
      "metadata": {
        "id": "OEciCQElAT_7",
        "outputId": "d6736459-a672-4522-99e7-ca8a11ff1a58"
      },
      "outputs": [
        {
          "data": {
            "text/plain": [
              "array([[ 0., -1., -1., -1.],\n",
              "       [-1.,  0., -1., -1.],\n",
              "       [-1., -1.,  0., -1.],\n",
              "       [-1., -1., -1.,  0.]])"
            ]
          },
          "execution_count": 82,
          "metadata": {},
          "output_type": "execute_result"
        }
      ],
      "source": [
        "a - 1"
      ]
    },
    {
      "cell_type": "code",
      "execution_count": null,
      "metadata": {
        "id": "HouinfYaAT_8",
        "outputId": "6e5609b9-0bf6-43c3-d0f5-a7a99757f584"
      },
      "outputs": [
        {
          "data": {
            "text/plain": [
              "array([[2., 0., 0., 0.],\n",
              "       [0., 2., 0., 0.],\n",
              "       [0., 0., 2., 0.],\n",
              "       [0., 0., 0., 2.]])"
            ]
          },
          "execution_count": 83,
          "metadata": {},
          "output_type": "execute_result"
        }
      ],
      "source": [
        "a*2"
      ]
    },
    {
      "cell_type": "code",
      "execution_count": null,
      "metadata": {
        "id": "m3yhOQQZAT_8",
        "outputId": "295eebc6-e289-4c46-8138-0a2fd3a47d5e"
      },
      "outputs": [
        {
          "data": {
            "text/plain": [
              "array([[2., 0., 0., 0.],\n",
              "       [0., 2., 0., 0.],\n",
              "       [0., 0., 2., 0.],\n",
              "       [0., 0., 0., 2.]])"
            ]
          },
          "execution_count": 84,
          "metadata": {},
          "output_type": "execute_result"
        }
      ],
      "source": [
        "a/0.5"
      ]
    },
    {
      "cell_type": "code",
      "execution_count": null,
      "metadata": {
        "id": "Bd-FDzAhAT_8",
        "outputId": "9ba3587e-259e-4be1-8bf8-4e05e26e2926"
      },
      "outputs": [
        {
          "data": {
            "text/plain": [
              "array([[0.84147098, 0.        , 0.        , 0.        ],\n",
              "       [0.        , 0.84147098, 0.        , 0.        ],\n",
              "       [0.        , 0.        , 0.84147098, 0.        ],\n",
              "       [0.        , 0.        , 0.        , 0.84147098]])"
            ]
          },
          "execution_count": 85,
          "metadata": {},
          "output_type": "execute_result"
        }
      ],
      "source": [
        "np.sin(a)"
      ]
    },
    {
      "cell_type": "code",
      "execution_count": null,
      "metadata": {
        "id": "kM6-mIh7AT_8",
        "outputId": "f8f19b9f-8b6a-4b13-ed2e-9ce85586ba6f"
      },
      "outputs": [
        {
          "data": {
            "text/plain": [
              "array([[0.54030231, 1.        , 1.        , 1.        ],\n",
              "       [1.        , 0.54030231, 1.        , 1.        ],\n",
              "       [1.        , 1.        , 0.54030231, 1.        ],\n",
              "       [1.        , 1.        , 1.        , 0.54030231]])"
            ]
          },
          "execution_count": 86,
          "metadata": {},
          "output_type": "execute_result"
        }
      ],
      "source": [
        "np.cos(a)"
      ]
    },
    {
      "cell_type": "code",
      "execution_count": null,
      "metadata": {
        "id": "ulPg97X7AT_8",
        "outputId": "e9e54e93-4d17-4c1c-945b-b76cef0d903c"
      },
      "outputs": [
        {
          "data": {
            "text/plain": [
              "array([[1., 0., 0., 0.],\n",
              "       [0., 1., 0., 0.],\n",
              "       [0., 0., 1., 0.],\n",
              "       [0., 0., 0., 1.]])"
            ]
          },
          "execution_count": 87,
          "metadata": {},
          "output_type": "execute_result"
        }
      ],
      "source": [
        "np.sqrt(a)"
      ]
    },
    {
      "cell_type": "markdown",
      "metadata": {
        "id": "n70AcgLDAT_8"
      },
      "source": [
        "# Aggregate Function"
      ]
    },
    {
      "cell_type": "markdown",
      "metadata": {
        "id": "x4D3UH_7AT_8"
      },
      "source": [
        "## Mean, Median and Standard deviation"
      ]
    },
    {
      "cell_type": "code",
      "execution_count": null,
      "metadata": {
        "id": "oaeaWwqbAT_8"
      },
      "outputs": [],
      "source": [
        "a = np.arange(5,15,2)"
      ]
    },
    {
      "cell_type": "code",
      "execution_count": null,
      "metadata": {
        "id": "qQSxqXk0AT_8",
        "outputId": "1d015534-31f6-4afa-e25a-0d2884ad4bea"
      },
      "outputs": [
        {
          "name": "stdout",
          "output_type": "stream",
          "text": [
            "[ 5  7  9 11 13]\n"
          ]
        }
      ],
      "source": [
        "print(a)"
      ]
    },
    {
      "cell_type": "code",
      "execution_count": null,
      "metadata": {
        "id": "XgmR-z4PAT_8",
        "outputId": "a2d2cd59-b581-429f-fb83-6361500bfa4c"
      },
      "outputs": [
        {
          "data": {
            "text/plain": [
              "9.0"
            ]
          },
          "execution_count": 90,
          "metadata": {},
          "output_type": "execute_result"
        }
      ],
      "source": [
        "np.mean(a)"
      ]
    },
    {
      "cell_type": "code",
      "execution_count": null,
      "metadata": {
        "id": "urPY0RnVAT_9",
        "outputId": "b5fbb36d-8118-47bc-d0ab-a8b01540cb91"
      },
      "outputs": [
        {
          "data": {
            "text/plain": [
              "9.0"
            ]
          },
          "execution_count": 91,
          "metadata": {},
          "output_type": "execute_result"
        }
      ],
      "source": [
        "np.median(a)"
      ]
    },
    {
      "cell_type": "code",
      "execution_count": null,
      "metadata": {
        "id": "YvqZqA-0AT_9",
        "outputId": "31477559-60ac-4578-c349-2db2379cf93d"
      },
      "outputs": [
        {
          "data": {
            "text/plain": [
              "2.8284271247461903"
            ]
          },
          "execution_count": 92,
          "metadata": {},
          "output_type": "execute_result"
        }
      ],
      "source": [
        "np.std(a)"
      ]
    },
    {
      "cell_type": "markdown",
      "metadata": {
        "id": "6SDTTzMXAT_9"
      },
      "source": [
        "## Min-Max values"
      ]
    },
    {
      "cell_type": "code",
      "execution_count": null,
      "metadata": {
        "id": "1JZeLwz3AT_9",
        "outputId": "208a065d-6c26-4b67-bd4a-60ce544420d4"
      },
      "outputs": [
        {
          "name": "stdout",
          "output_type": "stream",
          "text": [
            "[[1 6]\n",
            " [4 3]]\n"
          ]
        }
      ],
      "source": [
        "a = np.array([[1,6],[4,3]])\n",
        "print(a)"
      ]
    },
    {
      "cell_type": "code",
      "execution_count": null,
      "metadata": {
        "id": "57OZhV9CAT_9",
        "outputId": "edb1b8b3-b139-4de5-e58b-f4078ed27365"
      },
      "outputs": [
        {
          "name": "stdout",
          "output_type": "stream",
          "text": [
            "[1 3]\n"
          ]
        }
      ],
      "source": [
        "print(np.min(a, axis = 0))"
      ]
    },
    {
      "cell_type": "code",
      "execution_count": null,
      "metadata": {
        "id": "w-KAb9E8AT_9",
        "outputId": "ddafb9fe-1a2d-4220-e855-946c89bb6ed7"
      },
      "outputs": [
        {
          "name": "stdout",
          "output_type": "stream",
          "text": [
            "[1 3]\n"
          ]
        }
      ],
      "source": [
        "print(np.min(a, axis = 1))"
      ]
    },
    {
      "cell_type": "code",
      "execution_count": null,
      "metadata": {
        "id": "ukqTzc_WAT_9",
        "outputId": "bc8b68f5-6da2-4aa9-db59-99eca780dcda"
      },
      "outputs": [
        {
          "name": "stdout",
          "output_type": "stream",
          "text": [
            "[6 4]\n"
          ]
        }
      ],
      "source": [
        "print(np.max(a, axis = 1))"
      ]
    },
    {
      "cell_type": "code",
      "execution_count": null,
      "metadata": {
        "id": "4VSLP9efAT_9",
        "outputId": "9a90793b-e876-4a86-b688-63aaec65fc94"
      },
      "outputs": [
        {
          "name": "stdout",
          "output_type": "stream",
          "text": [
            "[4 6]\n"
          ]
        }
      ],
      "source": [
        "print(np.max(a, axis = 0))"
      ]
    },
    {
      "cell_type": "markdown",
      "metadata": {
        "id": "pQmKuQ5DAT_9"
      },
      "source": [
        "# Sorting"
      ]
    },
    {
      "cell_type": "code",
      "execution_count": null,
      "metadata": {
        "id": "qlWccproAT_-"
      },
      "outputs": [],
      "source": [
        "a = np.array([1,4,3,10,20])"
      ]
    },
    {
      "cell_type": "code",
      "execution_count": null,
      "metadata": {
        "id": "3od1a7rLAT_-"
      },
      "outputs": [],
      "source": [
        "x = np.sort(a, kind = 'mergesort')"
      ]
    },
    {
      "cell_type": "code",
      "execution_count": null,
      "metadata": {
        "id": "xLh-w8t3AT_-",
        "outputId": "611dea10-efeb-4648-f3cf-b300f415e34f"
      },
      "outputs": [
        {
          "name": "stdout",
          "output_type": "stream",
          "text": [
            "[ 1  3  4 10 20]\n"
          ]
        }
      ],
      "source": [
        "print(x)"
      ]
    },
    {
      "cell_type": "markdown",
      "metadata": {
        "id": "dGBrdRHyAT_-"
      },
      "source": [
        "# Matrix Multiplication"
      ]
    },
    {
      "cell_type": "code",
      "execution_count": null,
      "metadata": {
        "id": "VKuzGUOJAT_-"
      },
      "outputs": [],
      "source": [
        "A = np.arange(0,9).reshape(3,3)\n",
        "B = np.ones((3,3))"
      ]
    },
    {
      "cell_type": "code",
      "execution_count": null,
      "metadata": {
        "id": "rjVnGq8BAT_-",
        "outputId": "5aaeaa0d-c9b0-4b27-abcf-473ef7552581"
      },
      "outputs": [
        {
          "name": "stdout",
          "output_type": "stream",
          "text": [
            "[[0 1 2]\n",
            " [3 4 5]\n",
            " [6 7 8]]\n"
          ]
        }
      ],
      "source": [
        "print(A)"
      ]
    },
    {
      "cell_type": "code",
      "execution_count": null,
      "metadata": {
        "id": "A4PM7wL0AT_-",
        "outputId": "93d14d99-40c6-4227-f3d5-0374ba46c0d7"
      },
      "outputs": [
        {
          "name": "stdout",
          "output_type": "stream",
          "text": [
            "[[1. 1. 1.]\n",
            " [1. 1. 1.]\n",
            " [1. 1. 1.]]\n"
          ]
        }
      ],
      "source": [
        "print(B)"
      ]
    },
    {
      "cell_type": "code",
      "execution_count": null,
      "metadata": {
        "id": "8dBBsGeiAT_-",
        "outputId": "b297492f-ca56-4d65-8d03-8706a10039f4"
      },
      "outputs": [
        {
          "data": {
            "text/plain": [
              "array([[ 3.,  3.,  3.],\n",
              "       [12., 12., 12.],\n",
              "       [21., 21., 21.]])"
            ]
          },
          "execution_count": 104,
          "metadata": {},
          "output_type": "execute_result"
        }
      ],
      "source": [
        "np.dot(A,B)"
      ]
    },
    {
      "cell_type": "code",
      "execution_count": null,
      "metadata": {
        "id": "7g_P8ijsAT_-",
        "outputId": "d85cd88c-3e54-4814-d35a-545dabc29311"
      },
      "outputs": [
        {
          "data": {
            "text/plain": [
              "array([[ 3.,  3.,  3.],\n",
              "       [12., 12., 12.],\n",
              "       [21., 21., 21.]])"
            ]
          },
          "execution_count": 105,
          "metadata": {},
          "output_type": "execute_result"
        }
      ],
      "source": [
        "A.dot(B)"
      ]
    },
    {
      "cell_type": "code",
      "execution_count": null,
      "metadata": {
        "id": "B_z4T1eTAT_-"
      },
      "outputs": [],
      "source": []
    }
  ],
  "metadata": {
    "kernelspec": {
      "display_name": "base",
      "language": "python",
      "name": "python3"
    },
    "language_info": {
      "codemirror_mode": {
        "name": "ipython",
        "version": 3
      },
      "file_extension": ".py",
      "mimetype": "text/x-python",
      "name": "python",
      "nbconvert_exporter": "python",
      "pygments_lexer": "ipython3",
      "version": "3.12.7"
    },
    "colab": {
      "provenance": [],
      "toc_visible": true
    }
  },
  "nbformat": 4,
  "nbformat_minor": 0
}